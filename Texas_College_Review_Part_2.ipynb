{
 "cells": [
  {
   "cell_type": "markdown",
   "metadata": {},
   "source": [
    "# Texas College Review - Part II\n",
    "Author: Mr. Frederick Orndorff\n",
    "Date: January 26, 2020\n",
    "\n",
    "## Data\n",
    "__Map Data:__\n",
    "I plan to create a choropeth map to provide a visual representation of crime and other data.  In order to adequately display the map I wanted to overlay the Texas counties on the state map.  The Texas state government provided the data used for the county overlays, located [at this link.](https://data.texas.gov/dataset/Texas-Counties-Centroid_Map/ups3-9e8m).  This dataset also provided the latitude and longitude coordinates needed to use the Foursquare API data.\n",
    "\n",
    "__Informational Datasets:___\n",
    "In addition to the county information I also found the following datasets that I will incooporate in our data driven solutions:\n",
    "\n",
    "1. [2018 Texas Crime Data](http://www.dps.texas.gov/administration/crime_records/pages/crimestatistics.htm)\n",
    "\n",
    "The Texas Department of Public safety compiles data from state and local law enforcement agencies across the country, as well as the FBI. The Interstate Identification Index is a cooperative program between the FBI and the states to facilitate the exchange of information among those states and the FBI in order to reduce duplication of effort in records retention and demands accurate information for success. Crime data is focused on violent crimes, hate crimes, and assaults.\n",
    "\n",
    "2. [Texas State Expenditures by County](https://data.texas.gov/Government-and-Taxes/Texas-State-Expenditures-by-County/f2iw-dtqt)\n",
    "\n",
    "Texas State Expenditures by County shows where state dollars are spent. It lists state expenditures by agency and type of expenditure in each county. This data provides an overview of where the State is spending the local tax dollars for improvement(s).\n",
    "\n",
    "3. [Mixed Beverage Sales](https://data.texas.gov/Government-and-Taxes/Mixed-Beverage-Gross-Receipts/naix-2893)\n",
    "\n",
    "This file contains a list of taxpayers required to report mixed beverage gross receipts tax reports under Texas law.  It provides total sales reported and taxes paid.\n",
    "\n",
    "4. [List of Texas Colleges](http://www.txhighereddata.org/Interactive/Institutions.cfm)\n",
    "\n",
    "This database provides the list of Colleges, Universities, and trade schools available in the state of Texas.\n",
    "\n",
    "## Data Application to the Business Problem\n",
    "\n",
    "__Assumptions___\n",
    "I will make the following assumptions for the stakeholders:\n",
    "1. Lower crime is better\n",
    "2. Higher state expenditures in the county is better\n",
    "3. Larger beverage sales is better (work hard - play harder!!)\n",
    "4. Larger number of Foursquare data (venues) in the area is better.\n",
    "\n",
    "__Methodology__\n",
    "Utilizing the assumptions above I will use the data to provide a visulation and ranking of three to five colleges within the state of Texas.  The methodology section will evolve once I complete my data analysis and determine the best application for the data.\n"
   ]
  },
  {
   "cell_type": "code",
   "execution_count": null,
   "metadata": {},
   "outputs": [],
   "source": []
  }
 ],
 "metadata": {
  "kernelspec": {
   "display_name": "Python 3",
   "language": "python",
   "name": "python3"
  },
  "language_info": {
   "codemirror_mode": {
    "name": "ipython",
    "version": 3
   },
   "file_extension": ".py",
   "mimetype": "text/x-python",
   "name": "python",
   "nbconvert_exporter": "python",
   "pygments_lexer": "ipython3",
   "version": "3.7.4"
  }
 },
 "nbformat": 4,
 "nbformat_minor": 2
}
