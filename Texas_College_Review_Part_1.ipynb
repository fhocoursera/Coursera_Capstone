{
 "cells": [
  {
   "cell_type": "markdown",
   "metadata": {},
   "source": [
    "# Texas College Review\n",
    "Author: Mr. Frederick Orndorff\n",
    "Date: January 26, 2020\n",
    "\n",
    "## Introduction\n",
    "__Business Problem:__\n",
    "There are over 5,300 Colleges and Universities in the United States and over 450 of these colleges are in the state of Texas.  There are so many colleges in the Texas that a person could spend months (or even years) attempting to determine the best fit for a student -- or to determine which college is the best in Texas.  There are many personal opinions on which college ranks first, but can we use data to determine the best college in Texas?  \n",
    "\n",
    "For this project I will use public web data and the Foursquare API to provide a ranking for some Texas colleges.  This will be a data driven solution ot the business problem of too many colleges to determine the best fit.\n",
    "\n",
    "__Stakeholders:__\n",
    "There are many stakeholders in this problem, including: students, parents (who might pay for the student to attend college), transfer students, as well as, the college administration and presidents.\n",
    "\n"
   ]
  },
  {
   "cell_type": "code",
   "execution_count": null,
   "metadata": {},
   "outputs": [],
   "source": []
  }
 ],
 "metadata": {
  "kernelspec": {
   "display_name": "Python 3",
   "language": "python",
   "name": "python3"
  },
  "language_info": {
   "codemirror_mode": {
    "name": "ipython",
    "version": 3
   },
   "file_extension": ".py",
   "mimetype": "text/x-python",
   "name": "python",
   "nbconvert_exporter": "python",
   "pygments_lexer": "ipython3",
   "version": "3.7.4"
  }
 },
 "nbformat": 4,
 "nbformat_minor": 2
}
